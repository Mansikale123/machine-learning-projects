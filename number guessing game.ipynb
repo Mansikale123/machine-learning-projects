{
 "cells": [
  {
   "cell_type": "code",
   "execution_count": null,
   "id": "20e0350f",
   "metadata": {},
   "outputs": [],
   "source": [
    "import random \n",
    "cnum=random.randrange(1,10)\n",
    "userinput=int(input(\"Enter your number:-..\"))\n",
    "if userinput>cnum:\n",
    "    print(\"the number entered is too high ,please try again\")\n",
    "elif userinput<cnum:\n",
    "    print(\"The number entered is too low,please try again\")\n",
    "else:\n",
    "    print(\"hurray you guessed it right!!!\")"
   ]
  },
  {
   "cell_type": "code",
   "execution_count": null,
   "id": "7157aea0",
   "metadata": {},
   "outputs": [],
   "source": []
  },
  {
   "cell_type": "code",
   "execution_count": null,
   "id": "e294c94b",
   "metadata": {},
   "outputs": [],
   "source": []
  }
 ],
 "metadata": {
  "kernelspec": {
   "display_name": "Python 3 (ipykernel)",
   "language": "python",
   "name": "python3"
  },
  "language_info": {
   "codemirror_mode": {
    "name": "ipython",
    "version": 3
   },
   "file_extension": ".py",
   "mimetype": "text/x-python",
   "name": "python",
   "nbconvert_exporter": "python",
   "pygments_lexer": "ipython3",
   "version": "3.10.9"
  }
 },
 "nbformat": 4,
 "nbformat_minor": 5
}
